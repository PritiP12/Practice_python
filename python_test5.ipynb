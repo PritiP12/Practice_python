{
 "cells": [
  {
   "cell_type": "code",
   "execution_count": 4,
   "metadata": {},
   "outputs": [
    {
     "name": "stdout",
     "output_type": "stream",
     "text": [
      "Guess number between 0-10:1\n",
      "Incorrect!\n",
      "\n",
      "Guess number between 0-10:2\n",
      "Incorrect!\n",
      "\n",
      "Guess number between 0-10:3\n",
      "Incorrect!\n",
      "\n",
      "Guess number between 0-10:4\n",
      "Incorrect!\n",
      "\n",
      "Guess number between 0-10:5\n",
      "Incorrect!\n",
      "\n",
      "Guess number between 0-10:6\n",
      "Well Guessed!\n"
     ]
    }
   ],
   "source": [
    "# 1. Write a Python program to guess a number between 1 to 9.\n",
    "import random\n",
    "num=random.randint(0,10)\n",
    "guess_num=0\n",
    "while True:\n",
    "    guess_num=int(input(\"Guess number between 0-10:\"))\n",
    "    if num==guess_num:\n",
    "        print(\"Well Guessed!\")\n",
    "        break\n",
    "    else:\n",
    "        print(\"Incorrect!\\n\")"
   ]
  },
  {
   "cell_type": "code",
   "execution_count": 5,
   "metadata": {},
   "outputs": [
    {
     "name": "stdout",
     "output_type": "stream",
     "text": [
      "Number of even numbers : 4\n",
      "Number of odd numbers : 5\n"
     ]
    }
   ],
   "source": [
    "# 2. Write a Python program to count the number of even and odd numbers from a series of numbers.\n",
    "numbers = (1, 2, 3, 4, 5, 6, 7, 8, 9) \n",
    "even_num=0\n",
    "odd_num=0\n",
    "for i in numbers:\n",
    "    if i%2==0:\n",
    "        even_num += 1\n",
    "    else:\n",
    "        odd_num += 1\n",
    "print(\"Number of even numbers :\",even_num)\n",
    "print(\"Number of odd numbers :\",odd_num)"
   ]
  },
  {
   "cell_type": "code",
   "execution_count": 14,
   "metadata": {},
   "outputs": [
    {
     "name": "stdout",
     "output_type": "stream",
     "text": [
      "Letter: 6\n",
      "Digit: 2\n"
     ]
    }
   ],
   "source": [
    "# 3.Write a Python program that accepts a string and calculate the number of digits and letters.\n",
    "\n",
    "def data(string):\n",
    "    letter=0\n",
    "    digit=0\n",
    "    for i in string:\n",
    "        if i.isalpha():\n",
    "            letter += 1\n",
    "        elif i.isnumeric():\n",
    "            digit += 1\n",
    "        else:pass\n",
    "    print(\"Letter:\",letter)\n",
    "    print(\"Digit:\",digit)\n",
    "x=data(\"Python 3.2\")\n"
   ]
  },
  {
   "cell_type": "code",
   "execution_count": 16,
   "metadata": {},
   "outputs": [
    {
     "name": "stdout",
     "output_type": "stream",
     "text": [
      "Maximam No: 20\n",
      "Minimum No: 2\n"
     ]
    }
   ],
   "source": [
    "# 4. Write a Python program to find maximum and the minimum value in a set.\n",
    "data=set([5, 10, 3, 15, 2, 20])\n",
    "print(\"Maximam No:\",max(data))\n",
    "print(\"Minimum No:\",min(data))"
   ]
  },
  {
   "cell_type": "code",
   "execution_count": 19,
   "metadata": {},
   "outputs": [
    {
     "name": "stdout",
     "output_type": "stream",
     "text": [
      "25\n",
      "50\n"
     ]
    }
   ],
   "source": [
    "# 5. Write a Python program to create a lambda function that adds 15 to a given number passed in as an argument, \n",
    "# also create a lambda function that multiplies argument x with argument y and print the result.\n",
    "\n",
    "num = lambda x: x + 15\n",
    "print(num(10))\n",
    "mul = lambda x,y : x*y\n",
    "print(mul(5,10))"
   ]
  },
  {
   "cell_type": "code",
   "execution_count": 21,
   "metadata": {},
   "outputs": [
    {
     "name": "stdout",
     "output_type": "stream",
     "text": [
      "[10, 25, 50, 55]\n"
     ]
    }
   ],
   "source": [
    "# 6. Write a Python program to filter a list of integers using Lambda.\n",
    "\n",
    "list1=[10,18,22,25,48,50,55]\n",
    "x=list(filter(lambda x:x%5==0,list1))\n",
    "print(x)"
   ]
  },
  {
   "cell_type": "code",
   "execution_count": 25,
   "metadata": {},
   "outputs": [
    {
     "name": "stdout",
     "output_type": "stream",
     "text": [
      "Even Number Count: 4\n",
      "Odd Number Count: 5\n"
     ]
    }
   ],
   "source": [
    "# 7. Write a Python program to count the even, odd numbers in a given array of integers using Lambda.\n",
    "\n",
    "lst1=[1,2,3,4,5,6,7,8,9]\n",
    "even_num=len(list(filter(lambda i:i%2==0,lst1)))\n",
    "odd_num=len(list(filter(lambda i:i%2!=0,lst1)))\n",
    "print(\"Even Number Count:\",even_num)\n",
    "print(\"Odd Number Count:\",odd_num)\n"
   ]
  },
  {
   "cell_type": "code",
   "execution_count": 29,
   "metadata": {},
   "outputs": [
    {
     "name": "stdout",
     "output_type": "stream",
     "text": [
      "(7, 6, 5, 4, 3, 2, 1)\n"
     ]
    }
   ],
   "source": [
    "# 8. Write a Python program to reverse a tuple\n",
    "\n",
    "tuple1=(1,2,3,4,5,6,7)\n",
    "#print(tuple1[::-1])\n",
    "print(tuple(reversed(tuple1)))"
   ]
  },
  {
   "cell_type": "code",
   "execution_count": 38,
   "metadata": {},
   "outputs": [
    {
     "name": "stdout",
     "output_type": "stream",
     "text": [
      "{'x': [1, 2, 3], 'y': [1, 2], 'z': [1]}\n"
     ]
    }
   ],
   "source": [
    "# 9. Write a Python program to convert a list of tuples into a dictionary.\n",
    "\n",
    "Input = [(\"x\", 1), (\"x\", 2), (\"x\", 3), (\"y\", 1), (\"y\", 2), (\"z\", 1)]\n",
    "dict1={}\n",
    "\n",
    "for i in Input:\n",
    "    if i[0] not in dict1:\n",
    "        dict1[i[0]]=[i[1]]\n",
    "    else:\n",
    "        dict1[i[0]] = dict1[i[0]] + [i[1]]\n",
    "        \n",
    "print(dict1)"
   ]
  },
  {
   "cell_type": "code",
   "execution_count": null,
   "metadata": {},
   "outputs": [],
   "source": []
  },
  {
   "cell_type": "code",
   "execution_count": null,
   "metadata": {},
   "outputs": [],
   "source": []
  }
 ],
 "metadata": {
  "kernelspec": {
   "display_name": "myenv",
   "language": "python",
   "name": "myenv"
  },
  "language_info": {
   "codemirror_mode": {
    "name": "ipython",
    "version": 3
   },
   "file_extension": ".py",
   "mimetype": "text/x-python",
   "name": "python",
   "nbconvert_exporter": "python",
   "pygments_lexer": "ipython3",
   "version": "3.6.9"
  }
 },
 "nbformat": 4,
 "nbformat_minor": 2
}
