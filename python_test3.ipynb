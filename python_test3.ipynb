{
 "cells": [
  {
   "cell_type": "code",
   "execution_count": 17,
   "metadata": {},
   "outputs": [
    {
     "name": "stdout",
     "output_type": "stream",
     "text": [
      "2\n"
     ]
    }
   ],
   "source": [
    "#1. Write a Python program to count the number of strings where the string length is 2 or more \n",
    "#and the first and last character are same from a given list of strings\n",
    "\n",
    "string_input= ['abc', 'xyz', 'aba', '1221']\n",
    "count = 0\n",
    "for i in string_input:\n",
    "    if len(i)>1 and i[0]==i[-1]:\n",
    "        count+=1\n",
    "print(count)        "
   ]
  },
  {
   "cell_type": "code",
   "execution_count": 27,
   "metadata": {},
   "outputs": [
    {
     "name": "stdout",
     "output_type": "stream",
     "text": [
      "[(2, 1), (1, 2), (2, 3), (4, 4), (2, 5)]\n"
     ]
    }
   ],
   "source": [
    "#2. Write a Python program to get a list, sorted in increasing order by the last element in each tuple from a given list of\n",
    "#non-empty tuples\n",
    "def last(n): return n[-1]\n",
    "\n",
    "def sort_list_last(tuples):\n",
    "  return sorted(tuples, key=last)\n",
    "\n",
    "print(sort_list_last([(2, 5), (1, 2), (4, 4), (2, 3), (2, 1)]))"
   ]
  },
  {
   "cell_type": "code",
   "execution_count": 28,
   "metadata": {},
   "outputs": [
    {
     "name": "stdout",
     "output_type": "stream",
     "text": [
      "Non-duplicate items:\n",
      "[10, 20, 30, 50, 60, 40, 80]\n"
     ]
    }
   ],
   "source": [
    "#3.  Write a Python program to remove duplicates from a list. Dont use sets to remove duplicates\n",
    "a=[10, 20, 30, 20, 10, 50, 60, 40, 80, 50, 40]\n",
    "unique = []\n",
    "for x in a:\n",
    "    if x not in unique:\n",
    "        unique.append(x)\n",
    "        \n",
    "print(\"Non-duplicate items:\")\n",
    "print(unique)"
   ]
  },
  {
   "cell_type": "code",
   "execution_count": 30,
   "metadata": {},
   "outputs": [
    {
     "name": "stdout",
     "output_type": "stream",
     "text": [
      "hi hello bye \n",
      "2\n",
      "['hello', 'bye']\n"
     ]
    }
   ],
   "source": [
    "#4. Write a Python program to find the list of words that are longer than n from a given list of words\n",
    "txt = input().split(\" \")\n",
    "n=int(input())\n",
    "x=[w for w in txt if len(w) > n]\n",
    "print(x)"
   ]
  },
  {
   "cell_type": "code",
   "execution_count": 35,
   "metadata": {},
   "outputs": [
    {
     "data": {
      "text/plain": [
       "True"
      ]
     },
     "execution_count": 35,
     "metadata": {},
     "output_type": "execute_result"
    }
   ],
   "source": [
    "#5. Write a Python function that takes two lists and returns True if they have at least one common member.\n",
    "\n",
    "def test(list1, list2):\n",
    "    for i in list1:\n",
    "        for j in list2:\n",
    "            if i==j:\n",
    "                return True\n",
    "    return False\n",
    "test([1,2,3],[3,5,6])"
   ]
  },
  {
   "cell_type": "code",
   "execution_count": 36,
   "metadata": {},
   "outputs": [
    {
     "name": "stdout",
     "output_type": "stream",
     "text": [
      "['Green', 'white', 'black']\n"
     ]
    }
   ],
   "source": [
    "# 6. Write a Python program to print a specified list after removing the 0th, 4th and 5th elements\n",
    "color = ['Red', 'Green', 'white','black','pink','yellow']\n",
    "l=[i for i in color if color.index(i) not in (0,4,5)]\n",
    "print(l)"
   ]
  },
  {
   "cell_type": "code",
   "execution_count": 38,
   "metadata": {},
   "outputs": [
    {
     "name": "stdout",
     "output_type": "stream",
     "text": [
      "Non Even numbers in the list:  [11, 33, 55, 77, 99, 111]\n"
     ]
    }
   ],
   "source": [
    "# 7.  Write a Python program to print the numbers of a specified list after removing even numbers from it.\n",
    "list1 = [11,22,33,44,55,66,77,88,99,111] \n",
    "x= [num for num in list1 if num % 2 == 1] \n",
    "  \n",
    "print(\"Non Even numbers in the list: \", x)"
   ]
  },
  {
   "cell_type": "code",
   "execution_count": 46,
   "metadata": {},
   "outputs": [
    {
     "name": "stdout",
     "output_type": "stream",
     "text": [
      "['1', '2', '3']\n",
      "['1', '3', '2']\n",
      "['2', '1', '3']\n",
      "['2', '3', '1']\n",
      "['3', '2', '1']\n",
      "['3', '1', '2']\n",
      "None\n"
     ]
    }
   ],
   "source": [
    "#8.  Write a Python program to generate all permutations of a list in Python\n",
    "def permutations(str1,n=0):\n",
    "    if n==len(str1):\n",
    "        print((str1))\n",
    "    for i in range(n, len(str1)):\n",
    "        string_copy = [c for c in str1]\n",
    "        string_copy[n], string_copy[i] =string_copy[i], string_copy[n]\n",
    "        permutations(string_copy, n + 1)\n",
    "print (permutations ('123'))"
   ]
  },
  {
   "cell_type": "code",
   "execution_count": 48,
   "metadata": {},
   "outputs": [
    {
     "name": "stdout",
     "output_type": "stream",
     "text": [
      "abcd\n"
     ]
    }
   ],
   "source": [
    "#9. Write a Python program to convert a list of characters into a string.\n",
    "x = ['a', 'b', 'c', 'd']\n",
    "print(''.join(x))"
   ]
  },
  {
   "cell_type": "code",
   "execution_count": 53,
   "metadata": {},
   "outputs": [
    {
     "name": "stdout",
     "output_type": "stream",
     "text": [
      "74\n"
     ]
    }
   ],
   "source": [
    "#10. Write a Python program to find the second smallest number in a list. Dont use max min\n",
    "numbers = [20,67,3,2.6,7,74,2.8,90.8,52.8,4,3,2,5,7]\n",
    "s=sorted(numbers)\n",
    "print(s[-2])"
   ]
  },
  {
   "cell_type": "code",
   "execution_count": null,
   "metadata": {},
   "outputs": [],
   "source": []
  }
 ],
 "metadata": {
  "kernelspec": {
   "display_name": "myenv",
   "language": "python",
   "name": "myenv"
  },
  "language_info": {
   "codemirror_mode": {
    "name": "ipython",
    "version": 3
   },
   "file_extension": ".py",
   "mimetype": "text/x-python",
   "name": "python",
   "nbconvert_exporter": "python",
   "pygments_lexer": "ipython3",
   "version": "3.6.9"
  }
 },
 "nbformat": 4,
 "nbformat_minor": 2
}
