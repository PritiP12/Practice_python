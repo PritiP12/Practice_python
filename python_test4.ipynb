{
 "cells": [
  {
   "cell_type": "code",
   "execution_count": 10,
   "metadata": {},
   "outputs": [
    {
     "name": "stdout",
     "output_type": "stream",
     "text": [
      "[('and', 8), ('Python', 5), ('to', 3), ('an', 2), ('programming', 2), ('language', 2), ('for', 2), ('in', 2), ('many', 2), ('platforms', 2)]\n"
     ]
    }
   ],
   "source": [
    "#1. Write a Python program to find the occurrences of 10 most common words in a given text.\n",
    "from collections import Counter\n",
    "import re\n",
    "\n",
    "text =\"\"\"Python is an easy to learn, powerful programming language. It has efficient high-level data structures and a simple \n",
    "but effective approach to object-oriented programming. Python’s elegant syntax and dynamic typing, together with its interpreted\n",
    "nature, make it an ideal language for scripting and rapid application development in many areas on most platforms.\n",
    "The Python interpreter and the extensive standard library are freely available in source or binary form for all major platforms from the Python Web site, https://www.python.org/, and may be freely distributed. The same site also contains distributions of and pointers to many free third party Python modules, programs and tools, and additional documentation\n",
    "\"\"\"\n",
    "words = re.findall('\\w+',text)\n",
    "print(Counter(words).most_common(10))"
   ]
  },
  {
   "cell_type": "code",
   "execution_count": 12,
   "metadata": {},
   "outputs": [
    {
     "name": "stdout",
     "output_type": "stream",
     "text": [
      "{1: 'a', 2: 'b', 3: 'c'}\n"
     ]
    }
   ],
   "source": [
    "#2. Write a Python program to convert the key into values and values into keys\n",
    "my_dict = {'a':1,'b':2,'c':3}\n",
    "new_dict = {}\n",
    "for k, v in my_dict.items():\n",
    "    new_dict[v] = k\n",
    "print(new_dict)"
   ]
  },
  {
   "cell_type": "code",
   "execution_count": 67,
   "metadata": {},
   "outputs": [],
   "source": [
    "#3. Write a python decorator which will take two numbers as input and check if they are greater than zero and first number \n",
    "#should be greater than second number. If this is not the case raise an error and catch in an except block. \n",
    "\n",
    "def decorator(func):\n",
    "    try:\n",
    "        def check(a,b):\n",
    "            if (a and b) <= 0 and (a < b):\n",
    "                raise Exception('This is the exception you expect to handle')\n",
    "        \n",
    "            return func(a,b)\n",
    "        return check\n",
    "    except Exception as error:\n",
    "        print('Caught this error: ' + repr(error))\n",
    "        \n",
    "def check1(a,b):\n",
    "    return (a and b)>0 and (a > b)\n"
   ]
  },
  {
   "cell_type": "code",
   "execution_count": 63,
   "metadata": {},
   "outputs": [
    {
     "data": {
      "text/plain": [
       "True"
      ]
     },
     "execution_count": 63,
     "metadata": {},
     "output_type": "execute_result"
    }
   ],
   "source": [
    "check1(10,5)"
   ]
  },
  {
   "cell_type": "code",
   "execution_count": 20,
   "metadata": {},
   "outputs": [
    {
     "name": "stdout",
     "output_type": "stream",
     "text": [
      "[('Social sciences', 82), ('English', 88), ('Science', 90), ('Maths', 97)]\n"
     ]
    }
   ],
   "source": [
    "#4. Write a Python program to sort a list of tuples using Lambda.\n",
    "\n",
    "data=[('English', 88), ('Science', 90), ('Maths', 97), ('Social sciences', 82)]\n",
    "x=sorted(data, key=lambda tup: (tup[1]) )\n",
    "print(x)"
   ]
  },
  {
   "cell_type": "code",
   "execution_count": 28,
   "metadata": {},
   "outputs": [
    {
     "name": "stdout",
     "output_type": "stream",
     "text": [
      "0100,0011,1010,1001,1100,1001\n",
      "1010\n"
     ]
    }
   ],
   "source": [
    "# 5. Write a Python program which accepts a sequence of comma separated 4 digit binary numbers as its input and print the \n",
    "#numbers that are divisible by 5 in a comma separated sequence. \n",
    "\n",
    "value = []\n",
    "items=[x for x in input().split(',')]\n",
    "for i in items:\n",
    "    intp = int(i, 2)\n",
    "    if intp%5 == 0:\n",
    "        value.append(i)\n",
    "\n",
    "print( ','.join(value))\n"
   ]
  },
  {
   "cell_type": "code",
   "execution_count": 71,
   "metadata": {},
   "outputs": [
    {
     "name": "stdout",
     "output_type": "stream",
     "text": [
      "  ***  \n",
      " *   * \n",
      " *   * \n",
      " *   * \n",
      " *   * \n",
      " *   * \n",
      "  ***  \n",
      "\n"
     ]
    }
   ],
   "source": [
    "# 6. Write a Python program to print alphabet pattern 'O'.\n",
    "result_str=\"\";    \n",
    "for row in range(0,7):    \n",
    "    for column in range(0,7):     \n",
    "        if (((column == 1 or column == 5) and row != 0 and row != 6) or ((row == 0 or row == 6) and column > 1 and column < 5)):  \n",
    "            result_str=result_str+\"*\"    \n",
    "        else:      \n",
    "            result_str=result_str+\" \"    \n",
    "    result_str=result_str+\"\\n\"    \n",
    "print(result_str)\n",
    "        "
   ]
  },
  {
   "cell_type": "code",
   "execution_count": 37,
   "metadata": {},
   "outputs": [
    {
     "name": "stdout",
     "output_type": "stream",
     "text": [
      "[(1, 6, 8), (2, 4, 6)]\n",
      "None\n"
     ]
    }
   ],
   "source": [
    "# 7. Identify pairs of 3 numbers in a list which generate same number on multplying them.\n",
    "from itertools import combinations\n",
    "def findPairs(lst,K):  \n",
    "    \n",
    "    res = [] \n",
    "    for var in combinations(lst,3): \n",
    "        if var[0] * var[1] * var[2] == K: \n",
    "            res.append((var[0], var[1], var[2])) \n",
    "          \n",
    "    print(res) \n",
    "      \n",
    "# Driver code \n",
    "lst = [1,2,4,6,8]\n",
    "K = 48\n",
    "print(findPairs(lst, K))"
   ]
  },
  {
   "cell_type": "code",
   "execution_count": 38,
   "metadata": {},
   "outputs": [
    {
     "name": "stdout",
     "output_type": "stream",
     "text": [
      "Enter any number: 6\n",
      "The number is a Perfect number!\n"
     ]
    }
   ],
   "source": [
    "# 8. Write a Python function to check whether a number is perfect or not\n",
    "\n",
    "n = int(input(\"Enter any number: \"))\n",
    "sum1 = 0\n",
    "for i in range(1, n):\n",
    "    if(n % i == 0):\n",
    "        sum1 = sum1 + i\n",
    "if (sum1 == n):\n",
    "    print(\"The number is a Perfect number!\")\n",
    "else:\n",
    "    print(\"The number is not a Perfect number!\")"
   ]
  },
  {
   "cell_type": "code",
   "execution_count": 52,
   "metadata": {},
   "outputs": [
    {
     "data": {
      "text/plain": [
       "True"
      ]
     },
     "execution_count": 52,
     "metadata": {},
     "output_type": "execute_result"
    }
   ],
   "source": [
    "# 9.Write a Python function to check whether a string is a pangram or not.\n",
    "\n",
    "def is_panagram(string):\n",
    "    \n",
    "    alphabet = \"abcdefghijklmnopqrstuvwxyz\"\n",
    "    for char in alphabet:\n",
    "        if char not in string.lower(): \n",
    "            return False\n",
    "\n",
    "    return True\n",
    "\n",
    "string = 'the quick brown fox jumps over the lazy dog'\n",
    "is_panagram(string)\n",
    "\n"
   ]
  },
  {
   "cell_type": "code",
   "execution_count": null,
   "metadata": {},
   "outputs": [],
   "source": []
  }
 ],
 "metadata": {
  "kernelspec": {
   "display_name": "myenv",
   "language": "python",
   "name": "myenv"
  },
  "language_info": {
   "codemirror_mode": {
    "name": "ipython",
    "version": 3
   },
   "file_extension": ".py",
   "mimetype": "text/x-python",
   "name": "python",
   "nbconvert_exporter": "python",
   "pygments_lexer": "ipython3",
   "version": "3.6.9"
  }
 },
 "nbformat": 4,
 "nbformat_minor": 2
}
