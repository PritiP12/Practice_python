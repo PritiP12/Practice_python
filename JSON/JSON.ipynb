{
 "cells": [
  {
   "cell_type": "code",
   "execution_count": 1,
   "metadata": {},
   "outputs": [
    {
     "name": "stdout",
     "output_type": "stream",
     "text": [
      "\n",
      "JSON data:\n",
      "{'name': 'John', 'age': 30, 'city': 'New York'}\n"
     ]
    }
   ],
   "source": [
    "# convert JSON data to Python object.\n",
    "import json\n",
    "\n",
    "# some JSON:\n",
    "json_obj = '{ \"name\":\"John\", \"age\":30, \"city\":\"New York\"}'\n",
    "\n",
    "# parse json_obj\n",
    "python_obj = json.loads(json_obj)\n",
    "\n",
    "# the result is a Python dictionary:\n",
    "print(\"\\nJSON data:\")\n",
    "print(python_obj)"
   ]
  },
  {
   "cell_type": "code",
   "execution_count": 4,
   "metadata": {},
   "outputs": [
    {
     "name": "stdout",
     "output_type": "stream",
     "text": [
      "<class 'dict'>\n",
      "{\"name\": \"David\", \"class\": \"I\", \"age\": 6}\n"
     ]
    }
   ],
   "source": [
    "# Convert Python object to JSON data\n",
    "import json\n",
    "\n",
    "# a Python object (dict)\n",
    "python_obj = {\"name\": \"David\",\"class\":\"I\",\"age\": 6}\n",
    "print(type(python_obj))\n",
    "# convert into JSON:\n",
    "json_data = json.dumps(python_obj)\n",
    "# result is a JSON string:\n",
    "print(json_data)\n"
   ]
  },
  {
   "cell_type": "code",
   "execution_count": 6,
   "metadata": {},
   "outputs": [
    {
     "name": "stdout",
     "output_type": "stream",
     "text": [
      "json dict :  {\"name\": \"David\", \"class\": \"I\", \"age\": 6}\n",
      "jason list :  [\"a\", \"b\", \"c\"]\n",
      "json string :  \"Python Programming\"\n",
      "json number1 :  1234\n",
      "json number2 :  12.35\n",
      "json true :  true\n",
      "json false :  false\n",
      "json null :  null\n"
     ]
    }
   ],
   "source": [
    "# Convert Python objects into JSON strings\n",
    "import json\n",
    "\n",
    "py_dict={\"name\": \"David\",\"class\":\"I\",\"age\": 6}\n",
    "py_list=[\"a\",\"b\",\"c\"]\n",
    "py_string=\"Python Programming\"\n",
    "py_int=(1234)\n",
    "py_float=(12.35)\n",
    "py_T =  (True)\n",
    "py_F =  (False)\n",
    "py_N =  (None)\n",
    "\n",
    "json_dict=json.dumps(py_dict)\n",
    "json_list=json.dumps(py_list)\n",
    "json_str = json.dumps(py_string)\n",
    "json_num1 = json.dumps(py_int)\n",
    "json_num2 = json.dumps(py_float)\n",
    "json_t = json.dumps(py_T)\n",
    "json_f = json.dumps(py_F)\n",
    "json_n = json.dumps(py_N)\n",
    "\n",
    "print(\"json dict : \", json_dict)\n",
    "print(\"jason list : \", json_list)\n",
    "print(\"json string : \", json_str)\n",
    "print(\"json number1 : \", json_num1)\n",
    "print(\"json number2 : \", json_num2)\n",
    "print(\"json true : \", json_t)\n",
    "print(\"json false : \", json_f)\n",
    "print(\"json null : \", json_n)\n",
    "\n"
   ]
  },
  {
   "cell_type": "code",
   "execution_count": 7,
   "metadata": {},
   "outputs": [
    {
     "name": "stdout",
     "output_type": "stream",
     "text": [
      "{\n",
      "    \"name\": \"John\",\n",
      "    \"age\": 30,\n",
      "    \"married\": true,\n",
      "    \"divorced\": false,\n",
      "    \"children\": [\n",
      "        \"Ann\",\n",
      "        \"Billy\"\n",
      "    ],\n",
      "    \"pets\": null,\n",
      "    \"cars\": [\n",
      "        {\n",
      "            \"model\": \"BMW 230\",\n",
      "            \"mpg\": 27.5\n",
      "        },\n",
      "        {\n",
      "            \"model\": \"Ford Edge\",\n",
      "            \"mpg\": 24.1\n",
      "        }\n",
      "    ]\n",
      "}\n"
     ]
    }
   ],
   "source": [
    "# indent parameter to define the numbers of indents:\n",
    "\n",
    "import json\n",
    "\n",
    "x = {\n",
    "  \"name\": \"John\",\n",
    "  \"age\": 30,\n",
    "  \"married\": True,\n",
    "  \"divorced\": False,\n",
    "  \"children\": (\"Ann\",\"Billy\"),\n",
    "  \"pets\": None,\n",
    "  \"cars\": [\n",
    "    {\"model\": \"BMW 230\", \"mpg\": 27.5},\n",
    "    {\"model\": \"Ford Edge\", \"mpg\": 24.1}\n",
    "  ]\n",
    "}\n",
    "\n",
    "# use four indents to make it easier to read the result:\n",
    "print(json.dumps(x, indent=4))"
   ]
  },
  {
   "cell_type": "code",
   "execution_count": 14,
   "metadata": {},
   "outputs": [
    {
     "name": "stdout",
     "output_type": "stream",
     "text": [
      "Original String:\n",
      "{'4': 5, '6': 7, '1': 3, '2': 4}\n",
      "\n",
      "JSON data:\n",
      "{\n",
      "    \"1\": 3,\n",
      "    \"2\": 4,\n",
      "    \"4\": 5,\n",
      "    \"6\": 7\n",
      "}\n"
     ]
    }
   ],
   "source": [
    "#  convert Python dictionary object (sort by key) to JSON data.\n",
    "\n",
    "import json\n",
    "j_str = {'4': 5, '6': 7, '1': 3, '2': 4}\n",
    "print(\"Original String:\")\n",
    "print(j_str)\n",
    "print(\"\\nJSON data:\")\n",
    "print(json.dumps(j_str,sort_keys=True,indent=4))"
   ]
  },
  {
   "cell_type": "code",
   "execution_count": 19,
   "metadata": {},
   "outputs": [],
   "source": [
    "# Create a new JSON file from an existing JSON file\n",
    "\n",
    "import json\n",
    "\n",
    "with open (\"states.json\") as f:\n",
    "    test_data=json.load(f)\n",
    "\n",
    "with open(\"new_test1.json\",'w') as f:\n",
    "    json.dump(test_data,f,indent=2)"
   ]
  },
  {
   "cell_type": "code",
   "execution_count": null,
   "metadata": {},
   "outputs": [],
   "source": []
  }
 ],
 "metadata": {
  "kernelspec": {
   "display_name": "myenv",
   "language": "python",
   "name": "myenv"
  },
  "language_info": {
   "codemirror_mode": {
    "name": "ipython",
    "version": 3
   },
   "file_extension": ".py",
   "mimetype": "text/x-python",
   "name": "python",
   "nbconvert_exporter": "python",
   "pygments_lexer": "ipython3",
   "version": "3.6.9"
  }
 },
 "nbformat": 4,
 "nbformat_minor": 2
}
