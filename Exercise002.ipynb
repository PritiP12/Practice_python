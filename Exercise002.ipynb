{
 "cells": [
  {
   "cell_type": "code",
   "execution_count": 1,
   "metadata": {},
   "outputs": [
    {
     "name": "stdout",
     "output_type": "stream",
     "text": [
      "Twinkle, twinkle, little star\n",
      "\tHow I wonder what you are!\n",
      "\t\tUp above the world so high,\n",
      "\t\tLike a diamond in the sky.\n",
      "Twinkle, twinkle, little star,\n",
      "\tHow I wonder what you are\n"
     ]
    }
   ],
   "source": [
    "#  Python program to print string in a specific format.\n",
    "print(\"Twinkle, twinkle, little star\\n\\tHow I wonder what you are!\\n\\t\\tUp above the world so high,\\n\\t\\tLike a diamond in the sky.\\nTwinkle, twinkle, little star,\\n\\tHow I wonder what you are\")"
   ]
  },
  {
   "cell_type": "code",
   "execution_count": 2,
   "metadata": {},
   "outputs": [
    {
     "name": "stdout",
     "output_type": "stream",
     "text": [
      "3.6.9 |Anaconda, Inc.| (default, Jul 30 2019, 14:00:49) [MSC v.1915 64 bit (AMD64)]\n",
      "sys.version_info(major=3, minor=6, micro=9, releaselevel='final', serial=0)\n"
     ]
    }
   ],
   "source": [
    "# Python program to get the Python version you are using.\n",
    "import sys\n",
    "print(sys.version)\n",
    "print(sys.version_info)\n"
   ]
  },
  {
   "cell_type": "code",
   "execution_count": 3,
   "metadata": {},
   "outputs": [],
   "source": [
    "import subprocess\n",
    "\n",
    "#b'Python 3.7.3\\r\\n'\n",
    "pythonVersion = subprocess.check_output([\"python\", \"--version\"])\n",
    "# decode to string\n",
    "pythonVersion = pythonVersion.decode() # utf-8\n",
    "print(pythonVersion, end='')"
   ]
  },
  {
   "cell_type": "code",
   "execution_count": 4,
   "metadata": {},
   "outputs": [
    {
     "name": "stdout",
     "output_type": "stream",
     "text": [
      "2020-02-24 13:10:34\n"
     ]
    }
   ],
   "source": [
    "#  Python program to display the current date and time.\n",
    "import datetime\n",
    "now=datetime.datetime.now()\n",
    "print(now.strftime(\"%Y-%m-%d %H:%M:%S\"))\n"
   ]
  },
  {
   "cell_type": "code",
   "execution_count": 5,
   "metadata": {},
   "outputs": [
    {
     "name": "stdout",
     "output_type": "stream",
     "text": [
      "Enter radius:0.3\n",
      "0.2827433388230814\n"
     ]
    }
   ],
   "source": [
    "# Python program which accepts the radius of a circle from the user and compute the area.\n",
    "\n",
    "from math import pi\n",
    "r=float(input(\"Enter radius:\"))\n",
    "a=pi*r**2\n",
    "print(a)"
   ]
  },
  {
   "cell_type": "code",
   "execution_count": 6,
   "metadata": {},
   "outputs": [
    {
     "name": "stdout",
     "output_type": "stream",
     "text": [
      "Enter first name:John\n",
      "Enter last name:cena\n",
      "anec nhoJ\n"
     ]
    }
   ],
   "source": [
    "# Python program which accepts the user's first and last name and print them in reverse order with a space between them.\n",
    "fname=input(\"Enter first name:\")\n",
    "lname=input(\"Enter last name:\")\n",
    "print(lname[::-1]+\" \"+fname[::-1])"
   ]
  },
  {
   "cell_type": "code",
   "execution_count": null,
   "metadata": {},
   "outputs": [],
   "source": []
  },
  {
   "cell_type": "code",
   "execution_count": 7,
   "metadata": {},
   "outputs": [
    {
     "name": "stdout",
     "output_type": "stream",
     "text": [
      "Enter comma seperated number:10,20,30,40\n",
      "['10', '20', '30', '40']\n",
      "('10', '20', '30', '40')\n"
     ]
    }
   ],
   "source": [
    "#  Python program which accepts a sequence of comma-separated numbers from user and generate a list and a tuple with those numbers.\n",
    "value=input(\"Enter comma seperated number:\")\n",
    "list=value.split(\",\")\n",
    "t=tuple(list)\n",
    "print(list)\n",
    "print(t)\n"
   ]
  },
  {
   "cell_type": "code",
   "execution_count": 8,
   "metadata": {},
   "outputs": [
    {
     "name": "stdout",
     "output_type": "stream",
     "text": [
      "filename:txt1.java\n",
      "Extention is:java\n"
     ]
    }
   ],
   "source": [
    "#  Python program to accept a filename from the user and print the extension of that. \n",
    "\n",
    "filename=input(\"filename:\").split(\".\")\n",
    "print(\"Extention is:\"+filename[-1])"
   ]
  },
  {
   "cell_type": "code",
   "execution_count": 9,
   "metadata": {},
   "outputs": [
    {
     "name": "stdout",
     "output_type": "stream",
     "text": [
      "Red Yellow\n"
     ]
    }
   ],
   "source": [
    "# Python program to display the first and last colors from the following list.\n",
    "\n",
    "color_list = [\"Red\", \"Green\",\"Black\",\"Yellow\"]\n",
    "print(color_list[0]+\" \"+color_list[-1])\n",
    "\n"
   ]
  },
  {
   "cell_type": "code",
   "execution_count": 10,
   "metadata": {},
   "outputs": [
    {
     "name": "stdout",
     "output_type": "stream",
     "text": [
      "11/12/2014\n"
     ]
    }
   ],
   "source": [
    "exam_st_date = (11, 12, 2014)\n",
    "print(\"%i/%i/%i\"%exam_st_date)"
   ]
  },
  {
   "cell_type": "code",
   "execution_count": 11,
   "metadata": {},
   "outputs": [
    {
     "name": "stdout",
     "output_type": "stream",
     "text": [
      "Enter n:5\n",
      "615\n"
     ]
    }
   ],
   "source": [
    "# Write a Python program that accepts an integer (n) and computes the value of n+nn+nnn. \n",
    "\n",
    "n=input(\"Enter n:\")\n",
    "n1=int(\"%s\"%n)\n",
    "n2=int(\"%s%s\"%(n,n))\n",
    "n3=int(\"%s%s%s\"%(n,n,n))\n",
    "x=n1+n2+n3\n",
    "print(x)"
   ]
  },
  {
   "cell_type": "code",
   "execution_count": 12,
   "metadata": {},
   "outputs": [
    {
     "name": "stdout",
     "output_type": "stream",
     "text": [
      "Enter n:5\n",
      "615\n"
     ]
    }
   ],
   "source": [
    "n=input(\"Enter n:\")\n",
    "print(int(n)+int(n*2)+int(n*3))"
   ]
  },
  {
   "cell_type": "code",
   "execution_count": 13,
   "metadata": {},
   "outputs": [
    {
     "name": "stdout",
     "output_type": "stream",
     "text": [
      "Return the absolute value of the argument.\n"
     ]
    }
   ],
   "source": [
    "# Python program to print the documents (syntax, description etc.) of Python built-in function(s).\n",
    "\n",
    "print(abs.__doc__)"
   ]
  },
  {
   "cell_type": "code",
   "execution_count": 14,
   "metadata": {},
   "outputs": [
    {
     "name": "stdout",
     "output_type": "stream",
     "text": [
      "Input the year : 2020\n",
      "Input the month : 2\n",
      "   February 2020\n",
      "Mo Tu We Th Fr Sa Su\n",
      "                1  2\n",
      " 3  4  5  6  7  8  9\n",
      "10 11 12 13 14 15 16\n",
      "17 18 19 20 21 22 23\n",
      "24 25 26 27 28 29\n",
      "\n"
     ]
    }
   ],
   "source": [
    "import calendar\n",
    "y = int(input(\"Input the year : \"))\n",
    "m = int(input(\"Input the month : \"))\n",
    "print(calendar.month(y,m))"
   ]
  },
  {
   "cell_type": "code",
   "execution_count": 15,
   "metadata": {},
   "outputs": [
    {
     "name": "stdout",
     "output_type": "stream",
     "text": [
      "904.3199999999999\n"
     ]
    }
   ],
   "source": [
    "#Get the the volume of a sphere with radius 6\n",
    "pi=3.14\n",
    "r=6.0\n",
    "v=4.0/3.0*pi*r**3\n",
    "print(v)"
   ]
  },
  {
   "cell_type": "code",
   "execution_count": 16,
   "metadata": {},
   "outputs": [
    {
     "name": "stdout",
     "output_type": "stream",
     "text": [
      "Enter n:15\n",
      "2\n"
     ]
    }
   ],
   "source": [
    "#Python: Get the difference between a given number and 17, if the number is greater than 17\n",
    "#return double the absolute difference\n",
    "n=int(input(\"Enter n:\"))\n",
    "if n <= 17:\n",
    "    print((17-n))\n",
    "else:\n",
    "    print((n-17)*2)\n",
    "\n",
    "\n",
    "\n",
    "\n"
   ]
  },
  {
   "cell_type": "code",
   "execution_count": 17,
   "metadata": {},
   "outputs": [
    {
     "name": "stdout",
     "output_type": "stream",
     "text": [
      "n1:10\n",
      "n2:10\n",
      "n2:10\n",
      "90\n"
     ]
    }
   ],
   "source": [
    "#Python: Calculate the sum of three given numbers, if the values are equal then return thrice of their sum\n",
    "n1=int(input(\"n1:\"))\n",
    "n2=int(input(\"n2:\"))\n",
    "n3=int(input(\"n2:\"))\n",
    "sum=n1+n2+n3\n",
    "if n1==n2==n3:\n",
    "    sum=sum*3\n",
    "    print(sum)\n",
    "else:\n",
    "    print(sum)"
   ]
  },
  {
   "cell_type": "code",
   "execution_count": 18,
   "metadata": {},
   "outputs": [
    {
     "name": "stdout",
     "output_type": "stream",
     "text": [
      "Enter String:isgood\n",
      "isgood\n"
     ]
    }
   ],
   "source": [
    "#Python: Get a new string from a given string where 'Is' has been added to the front.\n",
    "#If the given string already begins with 'Is' then return the string unchanged\n",
    "s=input(\"Enter String:\")\n",
    "if s[0:2].upper()==\"IS\":\n",
    " print(s)\n",
    "else:\n",
    "    print(\"Is\"+s)"
   ]
  },
  {
   "cell_type": "code",
   "execution_count": 19,
   "metadata": {},
   "outputs": [
    {
     "name": "stdout",
     "output_type": "stream",
     "text": [
      "Please enter any word: temp\n",
      "Please enter any number: 2\n",
      "temptemp\n"
     ]
    }
   ],
   "source": [
    "#Python: Get a string which is n (non-negative integer) copies of a given string\n",
    "my_word = input(\"Please enter any word: \")\n",
    "my_number = int(input(\"Please enter any number: \"))\n",
    "\n",
    "while my_number < 0:\n",
    "    my_number = int(input(\"Please enter any number: \"))\n",
    "\n",
    "print(my_word * my_number)"
   ]
  },
  {
   "cell_type": "code",
   "execution_count": 20,
   "metadata": {},
   "outputs": [
    {
     "name": "stdout",
     "output_type": "stream",
     "text": [
      "2\n"
     ]
    }
   ],
   "source": [
    "#Python: Count the number 4 in a given list\n",
    "l=[1,2,4,4,7,8.9,8]\n",
    "print(l.count(4))\n",
    "    \n",
    "    "
   ]
  },
  {
   "cell_type": "code",
   "execution_count": 21,
   "metadata": {},
   "outputs": [
    {
     "name": "stdout",
     "output_type": "stream",
     "text": [
      "Enter string:test\n",
      "Enter num:5\n",
      "tetetetete\n"
     ]
    }
   ],
   "source": [
    "#Python: n (non-negative integer) copies of the first 2 characters of a given string\n",
    "s=input(\"Enter string:\")\n",
    "n=int(input(\"Enter num:\"))\n",
    "if len(s)<=2:\n",
    "    print(s)\n",
    "else:\n",
    "    print(s[:2]*n)"
   ]
  },
  {
   "cell_type": "code",
   "execution_count": 22,
   "metadata": {},
   "outputs": [
    {
     "name": "stdout",
     "output_type": "stream",
     "text": [
      "Enter letter:u\n",
      "yes the u is vowel\n"
     ]
    }
   ],
   "source": [
    "#Python: Test whether a passed letter is a vowel or not:\n",
    "\n",
    "vowels = ['a', 'e', 'i', 'o', 'u']\n",
    "letter=input('Enter letter:')\n",
    "if letter in vowels:\n",
    "    print(f'yes the {letter} is vowel')\n",
    "else:\n",
    "    print(f'no the {letter} is not vowels')"
   ]
  },
  {
   "cell_type": "code",
   "execution_count": 23,
   "metadata": {},
   "outputs": [
    {
     "name": "stdout",
     "output_type": "stream",
     "text": [
      "*\n",
      "*****\n"
     ]
    }
   ],
   "source": [
    "# Python program to create a histogram from a given list of integers.\n",
    "\n",
    "def histogram(item):\n",
    "    for i in item:\n",
    "        print(\"*\"*i)\n",
    "histogram([1,5])        "
   ]
  },
  {
   "cell_type": "code",
   "execution_count": 24,
   "metadata": {},
   "outputs": [
    {
     "name": "stdout",
     "output_type": "stream",
     "text": [
      "12345\n"
     ]
    }
   ],
   "source": [
    "#Concatenate all elements in a list into a string and return it.\n",
    "\n",
    "lst = [1,2,3,4,5]\n",
    "print(''.join(str(x) for x in lst))"
   ]
  },
  {
   "cell_type": "code",
   "execution_count": 25,
   "metadata": {},
   "outputs": [
    {
     "name": "stdout",
     "output_type": "stream",
     "text": [
      "386\n",
      "462\n",
      "418\n",
      "344\n",
      "236\n",
      "566\n",
      "978\n",
      "328\n",
      "162\n",
      "758\n",
      "918\n",
      "237\n"
     ]
    }
   ],
   "source": [
    "\"\"\"\n",
    "    Python program to print out all even numbers from a given numbers list in the same order and stop \n",
    "the printing if any numbers that come after 237 in the sequence.\n",
    "\"\"\"\n",
    "numbers = [    \n",
    "    386, 462, 47, 418, 907, 344, 236, 375, 823, 566, 597, 978, 328, 615, 953, 345, \n",
    "    399, 162, 758, 219, 918, 237, 412, 566, 826, 248, 866, 950, 626, 949, 687, 217, \n",
    "    815, 67, 104, 58, 512, 24, 892, 894, 767, 553, 81, 379, 843, 831, 445, 742, 717, \n",
    "    958,743, 527\n",
    "    ]\n",
    "\n",
    "for i in numbers:\n",
    "    if i==237:\n",
    "        print(i)\n",
    "        break\n",
    "    elif i%2==0:\n",
    "        print(i)\n",
    "\n",
    "  \n",
    "        \n",
    "        \n"
   ]
  },
  {
   "cell_type": "code",
   "execution_count": 26,
   "metadata": {},
   "outputs": [
    {
     "name": "stdout",
     "output_type": "stream",
     "text": [
      "['White', 'Black']\n"
     ]
    }
   ],
   "source": [
    "# Print out a set containing all the colors from a list which are not present in other list\n",
    "\n",
    "color_list_1 = set([\"White\", \"Black\", \"Red\"])\n",
    "color_list_2 = set([\"Red\", \"Green\"])\n",
    "color_list_3=[]\n",
    "\n",
    "for i in color_list_1:\n",
    "    if i not in color_list_2:\n",
    "        color_list_3.append(i)\n",
    "print(color_list_3)  #return list\n",
    "#print (color_list_1 - color_list_2) #return set"
   ]
  },
  {
   "cell_type": "code",
   "execution_count": 27,
   "metadata": {},
   "outputs": [
    {
     "name": "stdout",
     "output_type": "stream",
     "text": [
      "The area of triangle is 60.0\n"
     ]
    }
   ],
   "source": [
    "# Accept the base and height of a triangle and compute the area\n",
    "\n",
    "\n",
    "def Area(base,height):\n",
    "    area = 1/2 * base * height\n",
    "    return \"The area of triangle is {}\".format(area)\n",
    "print(Area(12,10))"
   ]
  },
  {
   "cell_type": "code",
   "execution_count": 32,
   "metadata": {},
   "outputs": [
    {
     "name": "stdout",
     "output_type": "stream",
     "text": [
      "Enter number:336\n",
      "Enter number:360\n",
      "24\n"
     ]
    }
   ],
   "source": [
    "# Compute the greatest common divisor (GCD) of two positive integers.\n",
    "\n",
    "def gcd(x,y):\n",
    "\n",
    "    for n in range(1,max(x,y)):\n",
    "        if x % n == 0 and y % n == 0:\n",
    "            gcd = n\n",
    "    return gcd\n",
    "\n",
    "x = int (input(\"Enter number:\"))\n",
    "y = int (input(\"Enter number:\"))\n",
    "\n",
    "print(gcd(x,y))"
   ]
  },
  {
   "cell_type": "code",
   "execution_count": null,
   "metadata": {},
   "outputs": [],
   "source": [
    "def lcd(n1,n2):\n",
    "\n",
    "    if (n1 < n2):\n",
    "        temp = n1\n",
    "        n1 = n2\n",
    "        n2 = temp\n",
    "\n",
    "        ans = n1\n",
    "\n",
    "    while (ans % n2 != 0):\n",
    "        ans +=n1\n",
    "\n",
    "    print(\"least common divisor is:\",ans)\n",
    "\n",
    "num1 = int(input(\"Enter 2 numbers:\"))\n",
    "num2 = int(input())\n",
    "lcd(num1, num2)"
   ]
  },
  {
   "cell_type": "code",
   "execution_count": null,
   "metadata": {},
   "outputs": [],
   "source": []
  }
 ],
 "metadata": {
  "kernelspec": {
   "display_name": "myenv",
   "language": "python",
   "name": "myenv"
  },
  "language_info": {
   "codemirror_mode": {
    "name": "ipython",
    "version": 3
   },
   "file_extension": ".py",
   "mimetype": "text/x-python",
   "name": "python",
   "nbconvert_exporter": "python",
   "pygments_lexer": "ipython3",
   "version": "3.6.9"
  }
 },
 "nbformat": 4,
 "nbformat_minor": 2
}
