{
 "cells": [
  {
   "cell_type": "code",
   "execution_count": 8,
   "metadata": {},
   "outputs": [
    {
     "name": "stdout",
     "output_type": "stream",
     "text": [
      "Enter any number : 595\n",
      "The given number is PALINDROME\n"
     ]
    }
   ],
   "source": [
    "#1. Given an integer, check whether it is a palindrome or not.\n",
    "num = input('Enter number : ')\n",
    "val = int(num)\n",
    "if num == str(num)[::-1]:\n",
    "    print('The given number is PALINDROME')\n",
    "else:\n",
    "    print('The given number is NOT a palindrome')\n"
   ]
  },
  {
   "cell_type": "code",
   "execution_count": 11,
   "metadata": {},
   "outputs": [
    {
     "name": "stdout",
     "output_type": "stream",
     "text": [
      "Input String:Hello World\n",
      "olleH dlroW\n"
     ]
    }
   ],
   "source": [
    "#2. Reverse each word in a given string\n",
    "input_string=input(\"Input String:\")\n",
    "x=' '.join([i[::-1] for i in input_string.split()])\n",
    "print(x)"
   ]
  },
  {
   "cell_type": "code",
   "execution_count": 13,
   "metadata": {},
   "outputs": [
    {
     "name": "stdout",
     "output_type": "stream",
     "text": [
      "{1: 2, 3: 4, 4: 3, 2: 1, 0: 0}\n",
      "[(0, 0), (2, 1), (1, 2), (4, 3), (3, 4)]\n",
      "[(3, 4), (4, 3), (1, 2), (2, 1), (0, 0)]\n"
     ]
    }
   ],
   "source": [
    "#3.Write a Python script to sort (ascending and descending) a dictionary by value.\n",
    "d={1:2,3:4,4:3,2:1,0:0}\n",
    "print(d)\n",
    "print(sorted(d.items(), key=lambda x:x[-1]))\n",
    "print(sorted(d.items(), key=lambda x:x[-1], reverse=True))\n",
    "\n"
   ]
  },
  {
   "cell_type": "code",
   "execution_count": 14,
   "metadata": {},
   "outputs": [
    {
     "name": "stdout",
     "output_type": "stream",
     "text": [
      "{1: 10, 2: 20, 3: 30, 4: 40, 5: 50, 6: 60}\n"
     ]
    }
   ],
   "source": [
    "#4. Write a Python script to concatenate following dictionaries to create a new one. Go to the editor\n",
    "dic1={1:10, 2:20}\n",
    "dic2={3:30, 4:40}\n",
    "dic3={5:50,6:60}\n",
    "dic4={}\n",
    "for d in dic1,dic2,dic3:\n",
    "    dic4.update(d)\n",
    "print(dic4)"
   ]
  },
  {
   "cell_type": "code",
   "execution_count": 16,
   "metadata": {},
   "outputs": [
    {
     "name": "stdout",
     "output_type": "stream",
     "text": [
      "Enter range-10\n",
      "{1: 1, 2: 4, 3: 9, 4: 16, 5: 25, 6: 36, 7: 49, 8: 64, 9: 81, 10: 100}\n"
     ]
    }
   ],
   "source": [
    "#Write a Python script to generate and print a dictionary that contains a number (between 1 and n) in the form (x, x*x).\n",
    "num=int(input(\"Enter range-\"))\n",
    "d={}\n",
    "for x in range(1,num+1):\n",
    "    d[x]=x*x\n",
    "print(d)"
   ]
  },
  {
   "cell_type": "code",
   "execution_count": 21,
   "metadata": {},
   "outputs": [
    {
     "name": "stdout",
     "output_type": "stream",
     "text": [
      "{'Amit': 11, 'Ram': 24, 'Rose': 41, 'John': 12}\n"
     ]
    }
   ],
   "source": [
    "#6. Write a Python program to remove duplicates values from Dictionary\n",
    "\n",
    "input_raw = {'Amit':11, 'Ram': 12, 'Rose': 41, 'Jack': 24, 'John': 12, 'Rahul': 41, 'Ram': 24}\n",
    "result = {}\n",
    "\n",
    "for key,value in input_raw.items():\n",
    "    if value not in result.values():\n",
    "        result[key] = value\n",
    "\n",
    "print (result)"
   ]
  },
  {
   "cell_type": "code",
   "execution_count": 31,
   "metadata": {},
   "outputs": [
    {
     "name": "stdout",
     "output_type": "stream",
     "text": [
      "{'a': 200, 'b': 400, 'c': 300, 'd': 400}\n"
     ]
    }
   ],
   "source": [
    "#7. Write a Python program to combine two dictionary adding values for common keys\n",
    "d1 = {'a': 100, 'b': 200, 'c':300}\n",
    "d2 = {'a': 300, 'b': 200, 'd':400}\n",
    "\n",
    "sample= d1.copy()\n",
    "for i in d2:\n",
    "    if i in sample:\n",
    "        sample[i] += d1[i]\n",
    "    else:\n",
    "        sample[i]= d2[i]\n",
    "\n",
    "print(sample)"
   ]
  },
  {
   "cell_type": "code",
   "execution_count": 32,
   "metadata": {},
   "outputs": [
    {
     "name": "stdout",
     "output_type": "stream",
     "text": [
      "{'S002', 'S009', 'S007', 'S005', 'S001'}\n"
     ]
    }
   ],
   "source": [
    "#8.Write a Python program to print all unique values in a dictionary\n",
    "lis= [{\"V\":\"S001\"}, {\"V\": \"S002\"}, {\"VI\": \"S001\"}, {\"VI\": \"S005\"}, {\"VII\":\"S005\"}, {\"V\":\"S009\"},{\"VIII\":\"S007\"}]\n",
    "s = set( val for dic in lis for val in dic.values())\n",
    "print(s)"
   ]
  },
  {
   "cell_type": "code",
   "execution_count": 37,
   "metadata": {},
   "outputs": [
    {
     "name": "stdout",
     "output_type": "stream",
     "text": [
      "[700, 800, 900]\n"
     ]
    }
   ],
   "source": [
    "#9. Write a Python program to find the highest 3 values in a dictionary\n",
    "my_dict = {'a':500, 'b':700, 'c': 900,'d':400, 'e':800, 'f': 20}\n",
    "list1 = [value for value in my_dict.values()]\n",
    "list1.sort()\n",
    "print (list1[-3:])"
   ]
  },
  {
   "cell_type": "code",
   "execution_count": 39,
   "metadata": {},
   "outputs": [
    {
     "name": "stdout",
     "output_type": "stream",
     "text": [
      "Enter a sentence: Hello World\n",
      "{'H': 1, 'e': 1, 'l': 3, 'o': 2, ' ': 1, 'W': 1, 'r': 1, 'd': 1}\n"
     ]
    }
   ],
   "source": [
    "# 10. Write a Python program to create a dictionary from a string\n",
    "input_string = str(input(\"Enter a sentence: \"))\n",
    "dict1={}\n",
    "for i in input_string:\n",
    "    if i not in dict1:\n",
    "        dict1[i]=input_string.count(i)\n",
    "print(dict1)"
   ]
  },
  {
   "cell_type": "code",
   "execution_count": null,
   "metadata": {},
   "outputs": [],
   "source": []
  }
 ],
 "metadata": {
  "kernelspec": {
   "display_name": "myenv",
   "language": "python",
   "name": "myenv"
  },
  "language_info": {
   "codemirror_mode": {
    "name": "ipython",
    "version": 3
   },
   "file_extension": ".py",
   "mimetype": "text/x-python",
   "name": "python",
   "nbconvert_exporter": "python",
   "pygments_lexer": "ipython3",
   "version": "3.6.9"
  }
 },
 "nbformat": 4,
 "nbformat_minor": 2
}
