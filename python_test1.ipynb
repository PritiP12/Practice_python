{
 "cells": [
  {
   "cell_type": "code",
   "execution_count": 1,
   "metadata": {},
   "outputs": [
    {
     "name": "stdout",
     "output_type": "stream",
     "text": [
      "Input your First Name : priti\n",
      "Input your Last Name : pawara\n",
      "itirp arawap\n"
     ]
    }
   ],
   "source": [
    "#Write a Python program which accepts the user's first and last name and print them in reverse order with a space between them\n",
    "fname = input(\"Input your First Name : \")\n",
    "lname = input(\"Input your Last Name : \")\n",
    "print(fname[::-1] + \" \" + lname[::-1])"
   ]
  },
  {
   "cell_type": "code",
   "execution_count": 2,
   "metadata": {},
   "outputs": [
    {
     "name": "stdout",
     "output_type": "stream",
     "text": [
      "Input some comma seprated numbers : 5 ,9,8,6,8\n",
      "List :  ['5 ', '9', '8', '6', '8']\n",
      "Tuple :  ('5 ', '9', '8', '6', '8')\n"
     ]
    }
   ],
   "source": [
    "#Write a Python program which accepts a sequence of comma-separated numbers from user and generate a list and a tuple with those numbers. \n",
    "\n",
    "values = input(\"Input some comma seprated numbers : \")\n",
    "list = values.split(\",\")\n",
    "tuple = tuple(list)\n",
    "print('List : ',list)\n",
    "print('Tuple : ',tuple)"
   ]
  },
  {
   "cell_type": "code",
   "execution_count": 4,
   "metadata": {},
   "outputs": [
    {
     "name": "stdout",
     "output_type": "stream",
     "text": [
      "Input the Filename: Book_1.csv\n",
      "The extension of the file is : 'csv'\n"
     ]
    }
   ],
   "source": [
    "#Write a Python program to accept a filename from the user and print the extension of that.\n",
    "filename = input(\"Input the Filename: \")\n",
    "f_extns = filename.split(\".\")\n",
    "print (\"The extension of the file is : \" + repr(f_extns[-1]))"
   ]
  },
  {
   "cell_type": "code",
   "execution_count": 6,
   "metadata": {},
   "outputs": [
    {
     "name": "stdout",
     "output_type": "stream",
     "text": [
      "Red Black\n"
     ]
    }
   ],
   "source": [
    "#Write a Python program to display the first and last colors from the following list.\n",
    "\n",
    "color_list = [\"Red\",\"Green\",\"White\" ,\"Black\"]\n",
    "print(color_list[0],color_list[-1])"
   ]
  },
  {
   "cell_type": "code",
   "execution_count": 7,
   "metadata": {},
   "outputs": [
    {
     "name": "stdout",
     "output_type": "stream",
     "text": [
      "Enter number n:5\n",
      "615\n"
     ]
    }
   ],
   "source": [
    "#Write a Python program that accepts an integer (n) and computes the value of n+nn+nnn\n",
    "n=int(input(\"Enter number n:\"))\n",
    "n1=int( \"%s\" % n )\n",
    "n2=int(\"%s%s\" %(n,n))\n",
    "n3=int(\"%s%s%s\" %(n,n,n))\n",
    "print(n1+n2+n3)"
   ]
  },
  {
   "cell_type": "code",
   "execution_count": 12,
   "metadata": {},
   "outputs": [
    {
     "name": "stdout",
     "output_type": "stream",
     "text": [
      "enter your first number:\n",
      "5\n",
      "enter your second number:\n",
      "5\n",
      "enter your third number:\n",
      "5\n",
      "Sum: 45\n"
     ]
    }
   ],
   "source": [
    "#Write a Python program to calculate the sum of three given numbers, if the values are equal then return three times of their sum\n",
    "num1 = int(input(\"enter your first number:\\n\"))\n",
    "num2 = int(input(\"enter your second number:\\n\"))\n",
    "num3 = int(input(\"enter your third number:\\n\"))\n",
    "\n",
    "if num1==num2==num3:\n",
    "    sum=(num1+num2+num3)*3\n",
    "else:\n",
    "    sum=num1+num2+num3\n",
    "\n",
    "print(\"Sum:\",sum)\n"
   ]
  },
  {
   "cell_type": "code",
   "execution_count": 26,
   "metadata": {},
   "outputs": [
    {
     "name": "stdout",
     "output_type": "stream",
     "text": [
      "enter string:isgood\n",
      "isgood\n"
     ]
    }
   ],
   "source": [
    "#7. Write a Python program to get a new string from a given string where \"Is\" has been added to the front. If the given string already begins with \"Is\" then return the string unchanged.\n",
    "\n",
    "def string_chk(s):\n",
    "  if s[0:2].upper() == 'IS':\n",
    "    return s\n",
    "  else:\n",
    "    return 'Is ' + s\n",
    "\n",
    "s = input('enter string:')\n",
    "final_str = string_chk(s)\n",
    "print(final_str)"
   ]
  },
  {
   "cell_type": "code",
   "execution_count": 35,
   "metadata": {},
   "outputs": [
    {
     "name": "stdout",
     "output_type": "stream",
     "text": [
      "3\n"
     ]
    }
   ],
   "source": [
    "# Write a Python program to count the number 4 in a given list\n",
    "\n",
    "list1=[1,2,3,4,4,3,2,1,4]\n",
    "print(list1.count(4))\n"
   ]
  },
  {
   "cell_type": "code",
   "execution_count": 38,
   "metadata": {},
   "outputs": [
    {
     "name": "stdout",
     "output_type": "stream",
     "text": [
      "['White', 'Black']\n"
     ]
    }
   ],
   "source": [
    "#Write a Python program to print out a set containing all the colors from color_list_1 which are not present in color_list_2\n",
    "color_list_1 = set([\"White\", \"Black\", \"Red\"])\n",
    "color_list_2 = set([\"Red\", \"Green\"])\n",
    "color_list_3 = []\n",
    "for i in color_list_1:\n",
    "    if i not in color_list_2:\n",
    "        color_list_3.append(i)\n",
    "\n",
    "print(color_list_3)"
   ]
  },
  {
   "cell_type": "code",
   "execution_count": 39,
   "metadata": {},
   "outputs": [
    {
     "name": "stdout",
     "output_type": "stream",
     "text": [
      "Input first Number : 11\n",
      "Input second number : 5\n",
      "20\n"
     ]
    }
   ],
   "source": [
    "#\n",
    "num1=int(input(\"Input first Number : \"))\n",
    "num2=int(input(\"Input second number : \"))\n",
    "sum=num1+num2\n",
    "if sum in range(15,20):\n",
    "    print(20)\n",
    "else:\n",
    "    print(\"sum of two number : \",sum)"
   ]
  },
  {
   "cell_type": "code",
   "execution_count": null,
   "metadata": {},
   "outputs": [],
   "source": []
  }
 ],
 "metadata": {
  "kernelspec": {
   "display_name": "myenv",
   "language": "python",
   "name": "myenv"
  },
  "language_info": {
   "codemirror_mode": {
    "name": "ipython",
    "version": 3
   },
   "file_extension": ".py",
   "mimetype": "text/x-python",
   "name": "python",
   "nbconvert_exporter": "python",
   "pygments_lexer": "ipython3",
   "version": "3.6.9"
  }
 },
 "nbformat": 4,
 "nbformat_minor": 2
}
