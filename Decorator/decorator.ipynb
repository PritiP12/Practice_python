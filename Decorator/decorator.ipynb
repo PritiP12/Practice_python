{
 "cells": [
  {
   "cell_type": "code",
   "execution_count": 7,
   "metadata": {},
   "outputs": [
    {
     "name": "stdout",
     "output_type": "stream",
     "text": [
      "I got Decorator\n",
      "I am ordinary\n",
      "**************\n"
     ]
    }
   ],
   "source": [
    "# Python Decorator :\n",
    "def decorator(func):  # decorator function\n",
    "    def wrap():\n",
    "        print(\"I got Decorator\")\n",
    "        func()\n",
    "        print(\"**************\")\n",
    "    return wrap()\n",
    "\n",
    "def ordinary():\n",
    "    print(\"I am ordinary\")\n",
    "    \n",
    "# let's decorate this ordinary function\n",
    "myfunc=decorator(ordinary)   \n"
   ]
  },
  {
   "cell_type": "code",
   "execution_count": 13,
   "metadata": {},
   "outputs": [
    {
     "name": "stdout",
     "output_type": "stream",
     "text": [
      "$$$$$$$$$$$$$$$$$$$$$$\n",
      "Hello\n",
      "$$$$$$$$$$$$$$$$$$$$$$\n"
     ]
    }
   ],
   "source": [
    "def decor(func):\n",
    "    def wrap():\n",
    "        print(\"$$$$$$$$$$$$$$$$$$$$$$\")\n",
    "        func()\n",
    "        print(\"$$$$$$$$$$$$$$$$$$$$$$\")\n",
    "    return wrap\n",
    "def sayhello():\n",
    "    print(\"Hello\")\n",
    "    \n",
    "newfunc=decor(sayhello)\n",
    "newfunc()\n"
   ]
  },
  {
   "cell_type": "code",
   "execution_count": 14,
   "metadata": {},
   "outputs": [
    {
     "name": "stdout",
     "output_type": "stream",
     "text": [
      "$\n",
      "Hello\n",
      "$\n"
     ]
    }
   ],
   "source": [
    "def sayhello():\n",
    "        print(\"Hello\")\n",
    "def decor(func):\n",
    "    def wrap():\n",
    "        print(\"$\")\n",
    "        func()\n",
    "        print(\"$\")\n",
    "    return wrap\n",
    "sayhello=decor(sayhello)\n",
    "sayhello()\n",
    "\n"
   ]
  },
  {
   "cell_type": "code",
   "execution_count": 15,
   "metadata": {},
   "outputs": [],
   "source": [
    "def smart_divide(func):\n",
    "    def inner(a, b):\n",
    "        print(\"I am going to divide\", a, \"and\", b)\n",
    "        if b == 0:\n",
    "            print(\"Whoops! cannot divide\")\n",
    "            return\n",
    "\n",
    "        return func(a, b)\n",
    "    return inner\n",
    "\n",
    "\n",
    "@smart_divide\n",
    "def divide(a, b):\n",
    "    print(a/b)"
   ]
  },
  {
   "cell_type": "code",
   "execution_count": 19,
   "metadata": {},
   "outputs": [
    {
     "name": "stdout",
     "output_type": "stream",
     "text": [
      "I am going to divide 5 and 10\n",
      "0.5\n"
     ]
    }
   ],
   "source": [
    "divide(5,10)"
   ]
  },
  {
   "cell_type": "code",
   "execution_count": 20,
   "metadata": {},
   "outputs": [
    {
     "name": "stdout",
     "output_type": "stream",
     "text": [
      "I am going to divide 5 and 0\n",
      "Whoops! cannot divide\n"
     ]
    }
   ],
   "source": [
    "divide(5,0)"
   ]
  },
  {
   "cell_type": "code",
   "execution_count": 21,
   "metadata": {},
   "outputs": [],
   "source": [
    "def decorator1(fun):\n",
    "    def check_no(a,b):\n",
    "            if a==0 and b==0:\n",
    "                print(\"False\")\n",
    "                return \n",
    "            return fun(a,b)\n",
    "    return check_no\n",
    "@decorator1\n",
    "def check(a,b):\n",
    "    return (a and b )>=0\n"
   ]
  },
  {
   "cell_type": "code",
   "execution_count": 22,
   "metadata": {},
   "outputs": [
    {
     "data": {
      "text/plain": [
       "True"
      ]
     },
     "execution_count": 22,
     "metadata": {},
     "output_type": "execute_result"
    }
   ],
   "source": [
    "check(2,5)"
   ]
  },
  {
   "cell_type": "code",
   "execution_count": 23,
   "metadata": {},
   "outputs": [
    {
     "name": "stdout",
     "output_type": "stream",
     "text": [
      "False\n"
     ]
    }
   ],
   "source": [
    "check(0,0)"
   ]
  },
  {
   "cell_type": "code",
   "execution_count": null,
   "metadata": {},
   "outputs": [],
   "source": []
  }
 ],
 "metadata": {
  "kernelspec": {
   "display_name": "myenv",
   "language": "python",
   "name": "myenv"
  },
  "language_info": {
   "codemirror_mode": {
    "name": "ipython",
    "version": 3
   },
   "file_extension": ".py",
   "mimetype": "text/x-python",
   "name": "python",
   "nbconvert_exporter": "python",
   "pygments_lexer": "ipython3",
   "version": "3.6.9"
  }
 },
 "nbformat": 4,
 "nbformat_minor": 2
}
