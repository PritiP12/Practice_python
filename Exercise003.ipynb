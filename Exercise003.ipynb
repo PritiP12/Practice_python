{
 "cells": [
  {
   "cell_type": "code",
   "execution_count": 1,
   "metadata": {},
   "outputs": [
    {
     "name": "stdout",
     "output_type": "stream",
     "text": [
      "11\n"
     ]
    }
   ],
   "source": [
    "# Python program to add two objects if both objects are an integer type.\n",
    "\n",
    "def add_two_obj(a,b):\n",
    "    if (isinstance(a,int) and isinstance(b,int)):\n",
    "        return a + b\n",
    "    \n",
    "    else:\n",
    "        raise TypeError('must be integers')\n",
    "        \n",
    "print(add_two_obj(5,6))"
   ]
  },
  {
   "cell_type": "code",
   "execution_count": 2,
   "metadata": {},
   "outputs": [
    {
     "name": "stdout",
     "output_type": "stream",
     "text": [
      "Enter your name:john\n",
      "Enter your age:25\n",
      "Enter your address:UK\n",
      "Name: john\n",
      "Age: 25\n",
      "Address: UK\n"
     ]
    }
   ],
   "source": [
    "# Python program to display your details like name, age, address in three different lines.\n",
    "\n",
    "def data():\n",
    "    name = input(\"Enter your name:\")\n",
    "    age = input(\"Enter your age:\")\n",
    "    address = input(\"Enter your address:\")\n",
    "    print(\"Name: {}\\nAge: {}\\nAddress: {}\".format(name, age, address))\n",
    "data()"
   ]
  },
  {
   "cell_type": "code",
   "execution_count": 14,
   "metadata": {},
   "outputs": [
    {
     "name": "stdout",
     "output_type": "stream",
     "text": [
      "Name of file:test1\n",
      "Extension of file: txt\n",
      "True\n"
     ]
    }
   ],
   "source": [
    "# Python program to check whether a file exists.\n",
    "\n",
    "import os.path\n",
    "\n",
    "def check():\n",
    "    fileName=input(\"Name of file:\")\n",
    "    fileType=input(\"Extension of file: \")\n",
    "    file = fileName+\".\"+fileType\n",
    "    print(os.path.isfile(file))\n",
    "check()"
   ]
  },
  {
   "cell_type": "code",
   "execution_count": 4,
   "metadata": {},
   "outputs": [
    {
     "name": "stdout",
     "output_type": "stream",
     "text": [
      "64bit\n"
     ]
    }
   ],
   "source": [
    "# Python program to determine whether a Python shell is executing in 32bit or 64bit mode on OS?\n",
    "\n",
    "import platform\n",
    "print(platform.architecture()[0])"
   ]
  },
  {
   "cell_type": "code",
   "execution_count": 5,
   "metadata": {},
   "outputs": [
    {
     "name": "stdout",
     "output_type": "stream",
     "text": [
      "nt\n",
      "Windows\n",
      "10\n"
     ]
    }
   ],
   "source": [
    "# Python program to get OS name, platform and release information.\n",
    "\n",
    "import os\n",
    "import platform\n",
    "\n",
    "print(os.name)\n",
    "print(platform.system())\n",
    "print(platform.release())"
   ]
  },
  {
   "cell_type": "code",
   "execution_count": 6,
   "metadata": {},
   "outputs": [
    {
     "name": "stdout",
     "output_type": "stream",
     "text": [
      "['C:\\\\Users\\\\Dell\\\\Anaconda3\\\\envs\\\\myenv', 'C:\\\\Users\\\\Dell\\\\Anaconda3\\\\envs\\\\myenv\\\\lib\\\\site-packages']\n",
      "C:\\Users\\Dell\\AppData\\Roaming\\Python\\Python36\\site-packages\n"
     ]
    }
   ],
   "source": [
    "# Python program to locate Python site-packages.\n",
    "\n",
    "import site\n",
    "\n",
    "print(site.getsitepackages())\n",
    "print (site.getusersitepackages())"
   ]
  },
  {
   "cell_type": "code",
   "execution_count": 7,
   "metadata": {},
   "outputs": [
    {
     "name": "stdout",
     "output_type": "stream",
     "text": [
      "1\n"
     ]
    }
   ],
   "source": [
    "# python program to call an external command in Python.\n",
    "\n",
    "import os\n",
    "\n",
    "print(os.system('ls -l'))"
   ]
  },
  {
   "cell_type": "code",
   "execution_count": 8,
   "metadata": {},
   "outputs": [
    {
     "name": "stdout",
     "output_type": "stream",
     "text": [
      "C:\\Users\\Dell\\Practice_Python\n"
     ]
    }
   ],
   "source": [
    "#  python program to get the path and name of the file that is currently executing.\n",
    "\n",
    "import os, sys\n",
    "print(os.path.dirname(os.path.realpath(sys.argv[1])))"
   ]
  },
  {
   "cell_type": "code",
   "execution_count": 9,
   "metadata": {},
   "outputs": [
    {
     "name": "stdout",
     "output_type": "stream",
     "text": [
      "4\n"
     ]
    }
   ],
   "source": [
    "# Python program to find out the number of CPUs using.\n",
    "\n",
    "import multiprocessing\n",
    "print(multiprocessing.cpu_count())"
   ]
  },
  {
   "cell_type": "code",
   "execution_count": 10,
   "metadata": {},
   "outputs": [
    {
     "name": "stdout",
     "output_type": "stream",
     "text": [
      "234.345\n",
      "234\n"
     ]
    }
   ],
   "source": [
    "# Python program to parse a string to Float or Integer.\n",
    "\n",
    "a = '234.345'\n",
    "print(float(a))\n",
    "print(int(float(a)))"
   ]
  },
  {
   "cell_type": "code",
   "execution_count": 11,
   "metadata": {},
   "outputs": [
    {
     "name": "stdout",
     "output_type": "stream",
     "text": [
      ".ipynb_checkpoints\n",
      "closure.ipynb\n",
      "decorator.ipynb\n",
      "dict_exp.ipynb\n",
      "dumpinglog.log\n",
      "dump_registry.ipynb\n",
      "Exercise002.ipynb\n",
      "Exercise003.ipynb\n",
      "exp_args+and+kwargs+in+Python.ipynb\n",
      "file.txt\n",
      "File_handling.ipynb\n",
      "filter_fun.ipynb\n",
      "Function.ipynb\n",
      "handling_exception.ipynb\n",
      "HM_2.ipynb\n",
      "lambda_fun.ipynb\n",
      "list_comphresion.ipynb\n",
      "list_practice.ipynb\n",
      "loop_pattern.ipynb\n",
      "map_fun.ipynb\n",
      "numpy.ipynb\n",
      "Numpy_excercise.ipynb\n",
      "NumPy_Excersise.ipynb\n",
      "paranthisis_sequence_check.ipynb\n",
      "practice001.ipynb\n",
      "python_test1.ipynb\n",
      "python_test2.ipynb\n",
      "python_test3.ipynb\n",
      "python_test4.ipynb\n",
      "python_test5.ipynb\n",
      "random_password2.ipynb\n",
      "reduce_fun.ipynb\n",
      "registry_dump_20200214-130827.pickle\n",
      "registry_dump_20200214-130832.pickle\n",
      "test1.txt\n",
      "text.txt\n",
      "text1.txt\n",
      "Untitled.ipynb\n",
      "untitled.txt\n",
      "Untitled1.ipynb\n",
      "Untitled2.ipynb\n",
      "Untitled3.ipynb\n",
      "Untitled4.ipynb\n",
      "using_dict_calcy.ipynb\n",
      "video_concate.ipynb\n",
      "winreg.ipynb\n"
     ]
    }
   ],
   "source": [
    "# Python program to list all files in a directory in Python.\n",
    "\n",
    "import os\n",
    "\n",
    "a = os.getcwd()\n",
    "for i in os.listdir(a):\n",
    "    print(i)"
   ]
  },
  {
   "cell_type": "code",
   "execution_count": 12,
   "metadata": {},
   "outputs": [
    {
     "name": "stdout",
     "output_type": "stream",
     "text": [
      "*----------------------------------*\n",
      "environ({'ALLUSERSPROFILE': 'C:\\\\ProgramData', 'APPDATA': 'C:\\\\Users\\\\Dell\\\\AppData\\\\Roaming', 'COMMONPROGRAMFILES': 'C:\\\\Program Files\\\\Common Files', 'COMMONPROGRAMFILES(X86)': 'C:\\\\Program Files (x86)\\\\Common Files', 'COMMONPROGRAMW6432': 'C:\\\\Program Files\\\\Common Files', 'COMPUTERNAME': 'DESKTOP-BEJ51OV', 'COMSPEC': 'C:\\\\WINDOWS\\\\system32\\\\cmd.exe', 'DRIVERDATA': 'C:\\\\Windows\\\\System32\\\\Drivers\\\\DriverData', 'FPS_BROWSER_APP_PROFILE_STRING': 'Internet Explorer', 'FPS_BROWSER_USER_PROFILE_STRING': 'Default', 'HOMEDRIVE': 'C:', 'HOMEPATH': '\\\\Users\\\\Dell', 'INTELLIJ IDEA EDUCATIONAL EDITION': 'C:\\\\Program Files\\\\JetBrains\\\\IntelliJ IDEA Educational Edition 2019.2.2\\\\bin;', 'LOCALAPPDATA': 'C:\\\\Users\\\\Dell\\\\AppData\\\\Local', 'LOGONSERVER': '\\\\\\\\DESKTOP-BEJ51OV', 'NUMBER_OF_PROCESSORS': '4', 'ONEDRIVE': 'C:\\\\Users\\\\Dell\\\\OneDrive', 'OS': 'Windows_NT', 'PATH': 'C:\\\\Users\\\\Dell\\\\AppData\\\\Roaming\\\\Python\\\\Python36\\\\site-packages\\\\pywin32_system32;C:\\\\Users\\\\Dell\\\\Anaconda3;C:\\\\Users\\\\Dell\\\\Anaconda3\\\\Library\\\\mingw-w64\\\\bin;C:\\\\Users\\\\Dell\\\\Anaconda3\\\\Library\\\\usr\\\\bin;C:\\\\Users\\\\Dell\\\\Anaconda3\\\\Library\\\\bin;C:\\\\Users\\\\Dell\\\\Anaconda3\\\\Scripts;C:\\\\Program Files\\\\Python37\\\\Scripts\\\\;C:\\\\Program Files\\\\Python37\\\\;C:\\\\Program Files (x86)\\\\Common Files\\\\Oracle\\\\Java\\\\javapath;C:\\\\WINDOWS\\\\system32;C:\\\\WINDOWS;C:\\\\Program Files\\\\Java\\\\jdk1.8.0_221\\\\bin;C:\\\\WINDOWS\\\\System32\\\\Wbem;C:\\\\WINDOWS\\\\System32\\\\WindowsPowerShell\\\\v1.0\\\\;C:\\\\WINDOWS\\\\System32\\\\OpenSSH\\\\;C:\\\\Program Files (x86)\\\\Intel\\\\Intel(R) Management Engine Components\\\\DAL;C:\\\\Program Files\\\\Intel\\\\Intel(R) Management Engine Components\\\\DAL;C:\\\\Program Files\\\\Microsoft SQL Server\\\\110\\\\Tools\\\\Binn\\\\;C:\\\\Users\\\\Dell\\\\Anaconda3;C:\\\\Users\\\\Dell\\\\Anaconda3\\\\Scripts;C:\\\\Users\\\\Dell\\\\Anaconda3\\\\Library\\\\bin;C:\\\\Users\\\\Dell\\\\AppData\\\\Local\\\\Microsoft\\\\WindowsApps;;C:\\\\Program Files\\\\JetBrains\\\\IntelliJ IDEA Educational Edition 2019.2.2\\\\bin;;C:\\\\Program Files\\\\JetBrains\\\\PyCharm Edu 2019.2.2\\\\bin;;C:\\\\Program Files\\\\JetBrains\\\\PyCharm Community Edition 2019.2.4\\\\bin;', 'PATHEXT': '.COM;.EXE;.BAT;.CMD;.VBS;.VBE;.JS;.JSE;.WSF;.WSH;.MSC;.PY;.PYW', 'PROCESSOR_ARCHITECTURE': 'AMD64', 'PROCESSOR_IDENTIFIER': 'Intel64 Family 6 Model 78 Stepping 3, GenuineIntel', 'PROCESSOR_LEVEL': '6', 'PROCESSOR_REVISION': '4e03', 'PROGRAMDATA': 'C:\\\\ProgramData', 'PROGRAMFILES': 'C:\\\\Program Files', 'PROGRAMFILES(X86)': 'C:\\\\Program Files (x86)', 'PROGRAMW6432': 'C:\\\\Program Files', 'PSMODULEPATH': 'C:\\\\Program Files\\\\WindowsPowerShell\\\\Modules;C:\\\\WINDOWS\\\\system32\\\\WindowsPowerShell\\\\v1.0\\\\Modules', 'PUBLIC': 'C:\\\\Users\\\\Public', 'PYCHARM COMMUNITY EDITION': 'C:\\\\Program Files\\\\JetBrains\\\\PyCharm Community Edition 2019.2.4\\\\bin;', 'PYCHARM EDU': 'C:\\\\Program Files\\\\JetBrains\\\\PyCharm Edu 2019.2.2\\\\bin;', 'SESSIONNAME': 'Console', 'SYNAPROGDIR': 'Synaptics\\\\SynTP', 'SYSTEMDRIVE': 'C:', 'SYSTEMROOT': 'C:\\\\WINDOWS', 'TEMP': 'C:\\\\Users\\\\Dell\\\\AppData\\\\Local\\\\Temp', 'TMP': 'C:\\\\Users\\\\Dell\\\\AppData\\\\Local\\\\Temp', 'USERDOMAIN': 'DESKTOP-BEJ51OV', 'USERDOMAIN_ROAMINGPROFILE': 'DESKTOP-BEJ51OV', 'USERNAME': 'Dell', 'USERPROFILE': 'C:\\\\Users\\\\Dell', 'VS110COMNTOOLS': 'C:\\\\Program Files (x86)\\\\Microsoft Visual Studio 11.0\\\\Common7\\\\Tools\\\\', 'WINDIR': 'C:\\\\WINDOWS', 'CONDA_PREFIX': 'C:\\\\Users\\\\Dell\\\\Anaconda3', 'JPY_INTERRUPT_EVENT': '1336', 'IPY_INTERRUPT_EVENT': '1336', 'JPY_PARENT_PID': '2608', 'TERM': 'xterm-color', 'CLICOLOR': '1', 'PAGER': 'cat', 'GIT_PAGER': 'cat', 'MPLBACKEND': 'module://ipykernel.pylab.backend_inline'})\n",
      "*----------------------------------*\n",
      "C:\\Users\\Dell\\AppData\\Roaming\\Python\\Python36\\site-packages\\pywin32_system32;C:\\Users\\Dell\\Anaconda3;C:\\Users\\Dell\\Anaconda3\\Library\\mingw-w64\\bin;C:\\Users\\Dell\\Anaconda3\\Library\\usr\\bin;C:\\Users\\Dell\\Anaconda3\\Library\\bin;C:\\Users\\Dell\\Anaconda3\\Scripts;C:\\Program Files\\Python37\\Scripts\\;C:\\Program Files\\Python37\\;C:\\Program Files (x86)\\Common Files\\Oracle\\Java\\javapath;C:\\WINDOWS\\system32;C:\\WINDOWS;C:\\Program Files\\Java\\jdk1.8.0_221\\bin;C:\\WINDOWS\\System32\\Wbem;C:\\WINDOWS\\System32\\WindowsPowerShell\\v1.0\\;C:\\WINDOWS\\System32\\OpenSSH\\;C:\\Program Files (x86)\\Intel\\Intel(R) Management Engine Components\\DAL;C:\\Program Files\\Intel\\Intel(R) Management Engine Components\\DAL;C:\\Program Files\\Microsoft SQL Server\\110\\Tools\\Binn\\;C:\\Users\\Dell\\Anaconda3;C:\\Users\\Dell\\Anaconda3\\Scripts;C:\\Users\\Dell\\Anaconda3\\Library\\bin;C:\\Users\\Dell\\AppData\\Local\\Microsoft\\WindowsApps;;C:\\Program Files\\JetBrains\\IntelliJ IDEA Educational Edition 2019.2.2\\bin;;C:\\Program Files\\JetBrains\\PyCharm Edu 2019.2.2\\bin;;C:\\Program Files\\JetBrains\\PyCharm Community Edition 2019.2.4\\bin;\n",
      "*----------------------------------*\n",
      "C:\\Users\\Dell\\AppData\\Roaming\\Python\\Python36\\site-packages\\pywin32_system32;C:\\Users\\Dell\\Anaconda3;C:\\Users\\Dell\\Anaconda3\\Library\\mingw-w64\\bin;C:\\Users\\Dell\\Anaconda3\\Library\\usr\\bin;C:\\Users\\Dell\\Anaconda3\\Library\\bin;C:\\Users\\Dell\\Anaconda3\\Scripts;C:\\Program Files\\Python37\\Scripts\\;C:\\Program Files\\Python37\\;C:\\Program Files (x86)\\Common Files\\Oracle\\Java\\javapath;C:\\WINDOWS\\system32;C:\\WINDOWS;C:\\Program Files\\Java\\jdk1.8.0_221\\bin;C:\\WINDOWS\\System32\\Wbem;C:\\WINDOWS\\System32\\WindowsPowerShell\\v1.0\\;C:\\WINDOWS\\System32\\OpenSSH\\;C:\\Program Files (x86)\\Intel\\Intel(R) Management Engine Components\\DAL;C:\\Program Files\\Intel\\Intel(R) Management Engine Components\\DAL;C:\\Program Files\\Microsoft SQL Server\\110\\Tools\\Binn\\;C:\\Users\\Dell\\Anaconda3;C:\\Users\\Dell\\Anaconda3\\Scripts;C:\\Users\\Dell\\Anaconda3\\Library\\bin;C:\\Users\\Dell\\AppData\\Local\\Microsoft\\WindowsApps;;C:\\Program Files\\JetBrains\\IntelliJ IDEA Educational Edition 2019.2.2\\bin;;C:\\Program Files\\JetBrains\\PyCharm Edu 2019.2.2\\bin;;C:\\Program Files\\JetBrains\\PyCharm Community Edition 2019.2.4\\bin;\n",
      "*----------------------------------*\n"
     ]
    }
   ],
   "source": [
    "# python program to access environment variables.\n",
    "\n",
    "import os\n",
    "# Access all environment variables \n",
    "print('*----------------------------------*')\n",
    "print(os.environ)\n",
    "print('*----------------------------------*')\n",
    "# Access a particular environment variable \n",
    "print(os.environ['PATH'])\n",
    "print('*----------------------------------*')\n",
    "print(os.getenv('PATH'))\n",
    "print('*----------------------------------*')"
   ]
  },
  {
   "cell_type": "code",
   "execution_count": 13,
   "metadata": {},
   "outputs": [
    {
     "name": "stdout",
     "output_type": "stream",
     "text": [
      "Dell\n"
     ]
    }
   ],
   "source": [
    "#  Python program to get the current username.\n",
    "\n",
    "import getpass\n",
    "print(getpass.getuser())"
   ]
  },
  {
   "cell_type": "code",
   "execution_count": 17,
   "metadata": {},
   "outputs": [
    {
     "name": "stdout",
     "output_type": "stream",
     "text": [
      "Last modified: Thu Jan  9 19:30:39 2020\n",
      "Created: Thu Jan  9 19:19:39 2020\n"
     ]
    }
   ],
   "source": [
    "#  Python program to get file creation and modification date/times.\n",
    "\n",
    "import os.path, time\n",
    "print(\"Last modified: %s\" % time.ctime(os.path.getmtime(\"test1.txt\")))\n",
    "print(\"Created: %s\" % time.ctime(os.path.getctime(\"test1.txt\")))"
   ]
  },
  {
   "cell_type": "code",
   "execution_count": null,
   "metadata": {},
   "outputs": [],
   "source": []
  }
 ],
 "metadata": {
  "kernelspec": {
   "display_name": "myenv",
   "language": "python",
   "name": "myenv"
  },
  "language_info": {
   "codemirror_mode": {
    "name": "ipython",
    "version": 3
   },
   "file_extension": ".py",
   "mimetype": "text/x-python",
   "name": "python",
   "nbconvert_exporter": "python",
   "pygments_lexer": "ipython3",
   "version": "3.6.9"
  }
 },
 "nbformat": 4,
 "nbformat_minor": 2
}
